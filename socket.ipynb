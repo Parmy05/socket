{
 "cells": [
  {
   "cell_type": "markdown",
   "metadata": {},
   "source": [
    "**Introduzione alle socket in python**\n"
   ]
  },
  {
   "cell_type": "markdown",
   "metadata": {},
   "source": [
    "Le socket sono uno strumento importante per la comunicazione tra processi su una rete, sia su internet che su una rete locale. In python, le socket possono essere utilizzate sia per la comunicazione tramite il prtocollo UDP, che è un protocollo di trasmissione si dati senza connessione, che TCP con connessione. Per creare una socket in python, utilizziamo il metodo socket() del modulo socket. Il metodo accetta due parametri: la famiglia di indirizzi e il tipo di socket."
   ]
  },
  {
   "cell_type": "markdown",
   "metadata": {},
   "source": [
    "**Socket UDP**"
   ]
  },
  {
   "cell_type": "markdown",
   "metadata": {},
   "source": [
    "Le socket UDP sono utilizzate per inviare e ricevere pachetti di dati tra due dispositivi senza l'instaurazione di una connessione prima della trasmissione dei dati. Questo rende le socket UDP molto utili per la trasmissione di dati in tempo reale come audio e video. Inoltre, il fatto che non ci sia una connessione pre-stabilita significa che le socket UDP sono adatte per la trasmissione di dati a piu destinazioni contemporaneamente.\n",
    "\n",
    "In python, il modulo socket fornisce un'interfaccia per creare e gestire le socket UDP. Le primitive principali che possono essere utilizzate con le socket UDP includono:"
   ]
  },
  {
   "cell_type": "markdown",
   "metadata": {},
   "source": [
    "1.**socket()**: questa funzione viene utilizzata per creare una nuova socket UDP. Restituisce un oggetto socket che puo essere utilizzato per inviare e ricevere dati "
   ]
  },
  {
   "cell_type": "code",
   "execution_count": null,
   "metadata": {},
   "outputs": [],
   "source": [
    "import socket\n",
    "#Creazione della socket UDP\n",
    "sock = socket.socket(socket.AF_INET, socket.SOCK_DGRAM)"
   ]
  },
  {
   "cell_type": "markdown",
   "metadata": {},
   "source": [
    "1.**bind()**:questa funzione viene utilizzata per associare una socket a un idirizzo e una porta specifici de server. Una volta associata, la socket sara in grado di ricevere i dati inviati a quell'indirizzo e porta specifici. Il metodo accetta un parametro, una tupla contenente l'indirizzo IP e il numero di porta"
   ]
  },
  {
   "cell_type": "code",
   "execution_count": null,
   "metadata": {},
   "outputs": [],
   "source": [
    "#Associazione della socket dell'indirizzo e alla porta del server\n",
    "server_address = ('127.0.0.1', 10000)\n",
    "sock.bind(server_address)"
   ]
  },
  {
   "cell_type": "markdown",
   "metadata": {},
   "source": [
    "1.**sendto()**:questa funzione viene utilizzata per inviare un messaggio a un indirizzo e una porta specifici. In una socket UDP, il messaggio inviato viene suddiviso in pachetti e invato tramite la rete. Non viene affettuato alcun controllo aulla ricezione del messaggio"
   ]
  },
  {
   "cell_type": "code",
   "execution_count": null,
   "metadata": {},
   "outputs": [],
   "source": [
    "#Invio di un messaggio alla socket del client\n",
    "message = b\"Hello, client!\"\n",
    "client_address = ('localhost', 10001)\n",
    "sock.sendto(message, client_address)"
   ]
  },
  {
   "cell_type": "markdown",
   "metadata": {},
   "source": [
    "4.**recvfrom()**:questa funzione viene utilizzata per ricevere un messaggio inviato a una socket sopecifica. Essa restituisce il messaggio ricevuto e l'indirizzo e la porta de mittente del messaggio"
   ]
  },
  {
   "cell_type": "code",
   "execution_count": null,
   "metadata": {},
   "outputs": [],
   "source": [
    "#Ricezione di un messaggio dalla socket del client\n",
    "data, address = sock.recvfrom(4096)"
   ]
  },
  {
   "cell_type": "markdown",
   "metadata": {},
   "source": [
    "Esempio completo di un server e un client che comunicano tramite socket UDP in python potrebbe essere il seguente:\n",
    "\n",
    "**nd: il codice va eseguito il locale**"
   ]
  },
  {
   "cell_type": "code",
   "execution_count": null,
   "metadata": {},
   "outputs": [],
   "source": [
    "import socket\n",
    "\n",
    "SERVER_IP = \"127.0.0.1\"\n",
    "SERVER_PORT = 5005\n",
    "BUFFER_SIZE = 1024\n",
    "\n",
    "#Creazione del socket\n",
    "sock = socket.socket(socket.AF_INET, socket.SOCK_DGRAM)\n",
    "sock.bind((SERVER_IP,SERVER_PORT))\n",
    "\n",
    "print(\"Server in attesa di messaggio...\")\n",
    "\n",
    "while True:\n",
    "    #Ricezione dei dati dal client\n",
    "    data, addr = sock.recvfrom(BUFFER_SIZE)\n",
    "    print(f\"Messaggio ricevuto dal client {addr}: {data.decode()}\")\n",
    "\n",
    "    #Invio di una risposta al client\n",
    "    reply = \"pong\"\n",
    "    sock.sendto(reply.encode(), addr)"
   ]
  },
  {
   "cell_type": "code",
   "execution_count": null,
   "metadata": {},
   "outputs": [],
   "source": [
    "import socket\n",
    "\n",
    "SERVER_IP = \"127.0.0.1\"\n",
    "SERVER_PORT = 5005\n",
    "BUFFER_SIZE = 1024\n",
    "NUM_MESSAGES = 5\n",
    "\n",
    "#Creazione del socket\n",
    "sock = socket.socket(socket.AF_INET, socket.SOCK_DGRAM)\n",
    "\n",
    "for i in range(NUM_MESSAGES):\n",
    "    #Invio del messaggio al server\n",
    "    message = \"ping\"\n",
    "    sock.sendto(message.encode(), (SERVER_IP, SERVER_PORT))\n",
    "    print(f\"Messaggio inviato al server: {message}\")\n",
    "\n",
    "    #Ricezione della risposta dal server\n",
    "    data, addr = sock.recvfrom(BUFFER_SIZE)\n",
    "    print(f\"Messaggio ricevuto dal server {addr}: {data.decode()}\")\n",
    "\n",
    "#Chiusura del socket\n",
    "sock.close()"
   ]
  }
 ],
 "metadata": {
  "language_info": {
   "name": "python"
  }
 },
 "nbformat": 4,
 "nbformat_minor": 2
}
